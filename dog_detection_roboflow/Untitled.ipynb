{
 "cells": [
  {
   "cell_type": "code",
   "execution_count": 2,
   "id": "3c7eff3a",
   "metadata": {},
   "outputs": [],
   "source": [
    "dope = {'predictions': \n",
    " [{'x': 361.5, 'y': 244.5, 'width': 471, \n",
    "   'height': 459, 'class': 'sit', 'confidence': 0.532}], \n",
    " 'image': {'width': 640, 'height': 480}}"
   ]
  },
  {
   "cell_type": "code",
   "execution_count": 3,
   "id": "0196709c",
   "metadata": {},
   "outputs": [
    {
     "name": "stdout",
     "output_type": "stream",
     "text": [
      "{'predictions': [{'x': 361.5, 'y': 244.5, 'width': 471, 'height': 459, 'class': 'sit', 'confidence': 0.532}], 'image': {'width': 640, 'height': 480}}\n"
     ]
    }
   ],
   "source": [
    "print(dope)"
   ]
  },
  {
   "cell_type": "code",
   "execution_count": 18,
   "id": "c5f2fa68",
   "metadata": {},
   "outputs": [],
   "source": [
    "hiya = (dope.get('predictions')[0]).get('class')"
   ]
  },
  {
   "cell_type": "code",
   "execution_count": 19,
   "id": "69143c4a",
   "metadata": {},
   "outputs": [
    {
     "data": {
      "text/plain": [
       "'sit'"
      ]
     },
     "execution_count": 19,
     "metadata": {},
     "output_type": "execute_result"
    }
   ],
   "source": [
    "hiya"
   ]
  },
  {
   "cell_type": "code",
   "execution_count": null,
   "id": "37a5d85b",
   "metadata": {},
   "outputs": [],
   "source": []
  }
 ],
 "metadata": {
  "kernelspec": {
   "display_name": "Python 3",
   "language": "python",
   "name": "python3"
  },
  "language_info": {
   "codemirror_mode": {
    "name": "ipython",
    "version": 3
   },
   "file_extension": ".py",
   "mimetype": "text/x-python",
   "name": "python",
   "nbconvert_exporter": "python",
   "pygments_lexer": "ipython3",
   "version": "3.6.9"
  }
 },
 "nbformat": 4,
 "nbformat_minor": 5
}
